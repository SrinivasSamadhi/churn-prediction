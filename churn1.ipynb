{
 "cells": [
  {
   "cell_type": "markdown",
   "id": "7c9736b5-4513-4a88-a5b0-051ff3afa792",
   "metadata": {},
   "source": [
    "## Churn Prediction"
   ]
  },
  {
   "cell_type": "markdown",
   "id": "9e670d58-5aa9-4c85-9187-79fd6bafa593",
   "metadata": {},
   "source": [
    "#### Import Libraries"
   ]
  },
  {
   "cell_type": "code",
   "execution_count": 1,
   "id": "0abc0283-6a0c-4158-b683-db58897d9064",
   "metadata": {},
   "outputs": [],
   "source": [
    "import numpy as np\n",
    "import pandas as pd\n",
    "import matplotlib.pyplot as plt\n"
   ]
  },
  {
   "cell_type": "markdown",
   "id": "23944431-aa55-4aac-8731-642d79ab175f",
   "metadata": {},
   "source": [
    "#### Load DataSet"
   ]
  },
  {
   "cell_type": "code",
   "execution_count": 2,
   "id": "e640c9e9-6121-4fc7-984b-9bd0fd32f717",
   "metadata": {},
   "outputs": [],
   "source": [
    "df = pd.read_csv('/home/rguktrkvalley/Desktop/churn_prediction/Churn_Modelling.csv')\n",
    "X = df.iloc[:,3:-1].values\n",
    "y = df.iloc[:,-1].values"
   ]
  },
  {
   "cell_type": "markdown",
   "id": "298166ba-1af2-44fd-a980-d3291d3530ff",
   "metadata": {},
   "source": [
    "### Encoding the categorical Labels"
   ]
  },
  {
   "cell_type": "code",
   "execution_count": 3,
   "id": "fb000f44-4357-4639-a582-ae120f4ece27",
   "metadata": {},
   "outputs": [],
   "source": [
    "from sklearn.preprocessing import LabelEncoder\n",
    "LeX=LabelEncoder()\n",
    "X[:,2]=LeX.fit_transform(X[:,2])"
   ]
  },
  {
   "cell_type": "code",
   "execution_count": 4,
   "id": "259e3261-a8d3-4e2c-858a-4d7dbc33ef23",
   "metadata": {},
   "outputs": [],
   "source": [
    "from sklearn.compose import ColumnTransformer\n",
    "from sklearn.preprocessing import OneHotEncoder\n",
    "ct=ColumnTransformer(transformers=[('encoder',OneHotEncoder(),[1])], remainder='passthrough')\n",
    "X=np.array(ct.fit_transform(X))"
   ]
  },
  {
   "cell_type": "markdown",
   "id": "64bba8c3-40e2-4fc0-91b5-c0e4e3011730",
   "metadata": {},
   "source": [
    "#### Feature Scaling"
   ]
  },
  {
   "cell_type": "code",
   "execution_count": 5,
   "id": "6d0cce1d-ec69-48ff-8b93-972a95362c2f",
   "metadata": {},
   "outputs": [],
   "source": [
    "from sklearn.preprocessing import StandardScaler\n",
    "sc=StandardScaler()\n",
    "X=sc.fit_transform(X)"
   ]
  },
  {
   "cell_type": "markdown",
   "id": "e20dee3e-f975-4de7-973d-34e7293f8324",
   "metadata": {},
   "source": [
    "#### Spliting the dataset into train and test data"
   ]
  },
  {
   "cell_type": "code",
   "execution_count": 6,
   "id": "8de5019b-8e33-49f9-8c57-e01e7aaac6e2",
   "metadata": {},
   "outputs": [],
   "source": [
    "#Splitting dataset into train and test set\n",
    "from sklearn.model_selection import train_test_split\n",
    "#Set any int as random state for reprodicibility\n",
    "X_train, X_test, Y_train, Y_test=train_test_split(X,y,test_size=0.2,random_state=42)\n"
   ]
  },
  {
   "cell_type": "markdown",
   "id": "5f192f46-363a-4675-9de8-43644bda69af",
   "metadata": {},
   "source": [
    "#### Import model and layers"
   ]
  },
  {
   "cell_type": "code",
   "execution_count": 7,
   "id": "974898c0-1d5f-493b-a4b0-2412e90e22c9",
   "metadata": {},
   "outputs": [
    {
     "name": "stderr",
     "output_type": "stream",
     "text": [
      "2025-08-18 05:13:23.982780: I tensorflow/tsl/cuda/cudart_stub.cc:28] Could not find cuda drivers on your machine, GPU will not be used.\n",
      "2025-08-18 05:13:26.616362: I tensorflow/tsl/cuda/cudart_stub.cc:28] Could not find cuda drivers on your machine, GPU will not be used.\n",
      "2025-08-18 05:13:26.620435: I tensorflow/core/platform/cpu_feature_guard.cc:182] This TensorFlow binary is optimized to use available CPU instructions in performance-critical operations.\n",
      "To enable the following instructions: AVX2 FMA, in other operations, rebuild TensorFlow with the appropriate compiler flags.\n",
      "2025-08-18 05:13:32.868375: W tensorflow/compiler/tf2tensorrt/utils/py_utils.cc:38] TF-TRT Warning: Could not find TensorRT\n"
     ]
    }
   ],
   "source": [
    "from tensorflow.keras.models import Sequential\n",
    "from tensorflow.keras.layers import Dense"
   ]
  },
  {
   "cell_type": "code",
   "execution_count": 8,
   "id": "c6bf56e3-9739-4df2-8acd-dfe774d83114",
   "metadata": {},
   "outputs": [],
   "source": [
    "input_dim=X_train.shape[1]"
   ]
  },
  {
   "cell_type": "markdown",
   "id": "f0ee9f06-46ff-4f53-84a6-233de08f218b",
   "metadata": {},
   "source": [
    "#### Inputing layers into model"
   ]
  },
  {
   "cell_type": "code",
   "execution_count": 9,
   "id": "239dd7d6-c3c8-47bc-a6d0-c49f4415e98d",
   "metadata": {},
   "outputs": [],
   "source": [
    "model=Sequential([Dense(64,activation='relu',input_shape=(input_dim,)),    #Adding first hidden layer\n",
    "                  Dense(32,activation='relu'),                            #Second hidden layer\n",
    "                  Dense(1,activation='sigmoid')]) "
   ]
  },
  {
   "cell_type": "markdown",
   "id": "7ba8c984-7c72-4afd-842d-fe088dacd914",
   "metadata": {},
   "source": [
    "#### Compiling the model"
   ]
  },
  {
   "cell_type": "code",
   "execution_count": 10,
   "id": "93cde692-9b55-4fa2-ae30-d08f87f398f2",
   "metadata": {},
   "outputs": [
    {
     "name": "stdout",
     "output_type": "stream",
     "text": [
      "Model: \"sequential\"\n",
      "_________________________________________________________________\n",
      " Layer (type)                Output Shape              Param #   \n",
      "=================================================================\n",
      " dense (Dense)               (None, 64)                832       \n",
      "                                                                 \n",
      " dense_1 (Dense)             (None, 32)                2080      \n",
      "                                                                 \n",
      " dense_2 (Dense)             (None, 1)                 33        \n",
      "                                                                 \n",
      "=================================================================\n",
      "Total params: 2945 (11.50 KB)\n",
      "Trainable params: 2945 (11.50 KB)\n",
      "Non-trainable params: 0 (0.00 Byte)\n",
      "_________________________________________________________________\n"
     ]
    }
   ],
   "source": [
    "model.compile(optimizer='adam',loss='binary_crossentropy',metrics='accuracy')\n",
    "model.summary()"
   ]
  },
  {
   "cell_type": "markdown",
   "id": "b5b2934f-c11d-41c0-80e0-57c1d181bce5",
   "metadata": {},
   "source": [
    "#### Training the model"
   ]
  },
  {
   "cell_type": "code",
   "execution_count": 11,
   "id": "dcff7950-61c4-4c24-b575-b3e5ad290006",
   "metadata": {},
   "outputs": [
    {
     "name": "stdout",
     "output_type": "stream",
     "text": [
      "Epoch 1/55\n",
      "200/200 [==============================] - 2s 3ms/step - loss: 0.4725 - accuracy: 0.7920 - val_loss: 0.4091 - val_accuracy: 0.8288\n",
      "Epoch 2/55\n",
      "200/200 [==============================] - 0s 2ms/step - loss: 0.3954 - accuracy: 0.8397 - val_loss: 0.3742 - val_accuracy: 0.8481\n",
      "Epoch 3/55\n",
      "200/200 [==============================] - 0s 2ms/step - loss: 0.3614 - accuracy: 0.8537 - val_loss: 0.3593 - val_accuracy: 0.8494\n",
      "Epoch 4/55\n",
      "200/200 [==============================] - 0s 2ms/step - loss: 0.3463 - accuracy: 0.8589 - val_loss: 0.3612 - val_accuracy: 0.8519\n",
      "Epoch 5/55\n",
      "200/200 [==============================] - 0s 2ms/step - loss: 0.3403 - accuracy: 0.8589 - val_loss: 0.3510 - val_accuracy: 0.8462\n",
      "Epoch 6/55\n",
      "200/200 [==============================] - 0s 2ms/step - loss: 0.3373 - accuracy: 0.8614 - val_loss: 0.3503 - val_accuracy: 0.8581\n",
      "Epoch 7/55\n",
      "200/200 [==============================] - 0s 2ms/step - loss: 0.3329 - accuracy: 0.8616 - val_loss: 0.3472 - val_accuracy: 0.8506\n",
      "Epoch 8/55\n",
      "200/200 [==============================] - 0s 2ms/step - loss: 0.3289 - accuracy: 0.8678 - val_loss: 0.3465 - val_accuracy: 0.8531\n",
      "Epoch 9/55\n",
      "200/200 [==============================] - 0s 2ms/step - loss: 0.3267 - accuracy: 0.8656 - val_loss: 0.3482 - val_accuracy: 0.8519\n",
      "Epoch 10/55\n",
      "200/200 [==============================] - 0s 2ms/step - loss: 0.3238 - accuracy: 0.8655 - val_loss: 0.3437 - val_accuracy: 0.8506\n",
      "Epoch 11/55\n",
      "200/200 [==============================] - 0s 2ms/step - loss: 0.3225 - accuracy: 0.8669 - val_loss: 0.3453 - val_accuracy: 0.8569\n",
      "Epoch 12/55\n",
      "200/200 [==============================] - 0s 2ms/step - loss: 0.3202 - accuracy: 0.8684 - val_loss: 0.3495 - val_accuracy: 0.8544\n",
      "Epoch 13/55\n",
      "200/200 [==============================] - 0s 2ms/step - loss: 0.3192 - accuracy: 0.8691 - val_loss: 0.3418 - val_accuracy: 0.8519\n",
      "Epoch 14/55\n",
      "200/200 [==============================] - 0s 2ms/step - loss: 0.3178 - accuracy: 0.8691 - val_loss: 0.3433 - val_accuracy: 0.8550\n",
      "Epoch 15/55\n",
      "200/200 [==============================] - 0s 2ms/step - loss: 0.3153 - accuracy: 0.8695 - val_loss: 0.3464 - val_accuracy: 0.8550\n",
      "Epoch 16/55\n",
      "200/200 [==============================] - 1s 3ms/step - loss: 0.3123 - accuracy: 0.8750 - val_loss: 0.3440 - val_accuracy: 0.8525\n",
      "Epoch 17/55\n",
      "200/200 [==============================] - 0s 2ms/step - loss: 0.3122 - accuracy: 0.8711 - val_loss: 0.3491 - val_accuracy: 0.8537\n",
      "Epoch 18/55\n",
      "200/200 [==============================] - 0s 2ms/step - loss: 0.3099 - accuracy: 0.8716 - val_loss: 0.3431 - val_accuracy: 0.8569\n",
      "Epoch 19/55\n",
      "200/200 [==============================] - 0s 2ms/step - loss: 0.3096 - accuracy: 0.8731 - val_loss: 0.3449 - val_accuracy: 0.8581\n",
      "Epoch 20/55\n",
      "200/200 [==============================] - 0s 2ms/step - loss: 0.3083 - accuracy: 0.8712 - val_loss: 0.3423 - val_accuracy: 0.8556\n",
      "Epoch 21/55\n",
      "200/200 [==============================] - 0s 2ms/step - loss: 0.3060 - accuracy: 0.8759 - val_loss: 0.3514 - val_accuracy: 0.8500\n",
      "Epoch 22/55\n",
      "200/200 [==============================] - 0s 2ms/step - loss: 0.3063 - accuracy: 0.8734 - val_loss: 0.3469 - val_accuracy: 0.8575\n",
      "Epoch 23/55\n",
      "200/200 [==============================] - 0s 2ms/step - loss: 0.3051 - accuracy: 0.8731 - val_loss: 0.3495 - val_accuracy: 0.8575\n",
      "Epoch 24/55\n",
      "200/200 [==============================] - 0s 2ms/step - loss: 0.3022 - accuracy: 0.8786 - val_loss: 0.3496 - val_accuracy: 0.8556\n",
      "Epoch 25/55\n",
      "200/200 [==============================] - 0s 2ms/step - loss: 0.3008 - accuracy: 0.8761 - val_loss: 0.3455 - val_accuracy: 0.8537\n",
      "Epoch 26/55\n",
      "200/200 [==============================] - 1s 2ms/step - loss: 0.3004 - accuracy: 0.8720 - val_loss: 0.3466 - val_accuracy: 0.8606\n",
      "Epoch 27/55\n",
      "200/200 [==============================] - 0s 2ms/step - loss: 0.2996 - accuracy: 0.8748 - val_loss: 0.3494 - val_accuracy: 0.8537\n",
      "Epoch 28/55\n",
      "200/200 [==============================] - 0s 2ms/step - loss: 0.2981 - accuracy: 0.8745 - val_loss: 0.3470 - val_accuracy: 0.8581\n",
      "Epoch 29/55\n",
      "200/200 [==============================] - 1s 3ms/step - loss: 0.2973 - accuracy: 0.8769 - val_loss: 0.3457 - val_accuracy: 0.8544\n",
      "Epoch 30/55\n",
      "200/200 [==============================] - 0s 2ms/step - loss: 0.2953 - accuracy: 0.8752 - val_loss: 0.3485 - val_accuracy: 0.8625\n",
      "Epoch 31/55\n",
      "200/200 [==============================] - 0s 2ms/step - loss: 0.2942 - accuracy: 0.8744 - val_loss: 0.3491 - val_accuracy: 0.8519\n",
      "Epoch 32/55\n",
      "200/200 [==============================] - 0s 2ms/step - loss: 0.2927 - accuracy: 0.8767 - val_loss: 0.3518 - val_accuracy: 0.8481\n",
      "Epoch 33/55\n",
      "200/200 [==============================] - 0s 2ms/step - loss: 0.2920 - accuracy: 0.8770 - val_loss: 0.3478 - val_accuracy: 0.8537\n",
      "Epoch 34/55\n",
      "200/200 [==============================] - 0s 2ms/step - loss: 0.2903 - accuracy: 0.8781 - val_loss: 0.3570 - val_accuracy: 0.8587\n",
      "Epoch 35/55\n",
      "200/200 [==============================] - 1s 3ms/step - loss: 0.2908 - accuracy: 0.8784 - val_loss: 0.3493 - val_accuracy: 0.8550\n",
      "Epoch 36/55\n",
      "200/200 [==============================] - 0s 2ms/step - loss: 0.2878 - accuracy: 0.8789 - val_loss: 0.3549 - val_accuracy: 0.8587\n",
      "Epoch 37/55\n",
      "200/200 [==============================] - 0s 2ms/step - loss: 0.2872 - accuracy: 0.8802 - val_loss: 0.3524 - val_accuracy: 0.8519\n",
      "Epoch 38/55\n",
      "200/200 [==============================] - 0s 2ms/step - loss: 0.2854 - accuracy: 0.8800 - val_loss: 0.3516 - val_accuracy: 0.8606\n",
      "Epoch 39/55\n",
      "200/200 [==============================] - 0s 2ms/step - loss: 0.2860 - accuracy: 0.8797 - val_loss: 0.3543 - val_accuracy: 0.8519\n",
      "Epoch 40/55\n",
      "200/200 [==============================] - 0s 2ms/step - loss: 0.2840 - accuracy: 0.8806 - val_loss: 0.3580 - val_accuracy: 0.8544\n",
      "Epoch 41/55\n",
      "200/200 [==============================] - 0s 2ms/step - loss: 0.2825 - accuracy: 0.8795 - val_loss: 0.3573 - val_accuracy: 0.8456\n",
      "Epoch 42/55\n",
      "200/200 [==============================] - 0s 2ms/step - loss: 0.2800 - accuracy: 0.8805 - val_loss: 0.3552 - val_accuracy: 0.8575\n",
      "Epoch 43/55\n",
      "200/200 [==============================] - 0s 2ms/step - loss: 0.2822 - accuracy: 0.8800 - val_loss: 0.3580 - val_accuracy: 0.8487\n",
      "Epoch 44/55\n",
      "200/200 [==============================] - 0s 2ms/step - loss: 0.2774 - accuracy: 0.8841 - val_loss: 0.3647 - val_accuracy: 0.8537\n",
      "Epoch 45/55\n",
      "200/200 [==============================] - 0s 2ms/step - loss: 0.2790 - accuracy: 0.8836 - val_loss: 0.3586 - val_accuracy: 0.8562\n",
      "Epoch 46/55\n",
      "200/200 [==============================] - 0s 2ms/step - loss: 0.2776 - accuracy: 0.8842 - val_loss: 0.3608 - val_accuracy: 0.8444\n",
      "Epoch 47/55\n",
      "200/200 [==============================] - 0s 2ms/step - loss: 0.2757 - accuracy: 0.8816 - val_loss: 0.3635 - val_accuracy: 0.8506\n",
      "Epoch 48/55\n",
      "200/200 [==============================] - 0s 2ms/step - loss: 0.2744 - accuracy: 0.8870 - val_loss: 0.3677 - val_accuracy: 0.8400\n",
      "Epoch 49/55\n",
      "200/200 [==============================] - 0s 2ms/step - loss: 0.2756 - accuracy: 0.8803 - val_loss: 0.3678 - val_accuracy: 0.8562\n",
      "Epoch 50/55\n",
      "200/200 [==============================] - 0s 2ms/step - loss: 0.2735 - accuracy: 0.8825 - val_loss: 0.3645 - val_accuracy: 0.8425\n",
      "Epoch 51/55\n",
      "200/200 [==============================] - 0s 2ms/step - loss: 0.2723 - accuracy: 0.8784 - val_loss: 0.3722 - val_accuracy: 0.8444\n",
      "Epoch 52/55\n",
      "200/200 [==============================] - 0s 2ms/step - loss: 0.2712 - accuracy: 0.8833 - val_loss: 0.3653 - val_accuracy: 0.8506\n",
      "Epoch 53/55\n",
      "200/200 [==============================] - 1s 2ms/step - loss: 0.2699 - accuracy: 0.8836 - val_loss: 0.3750 - val_accuracy: 0.8537\n",
      "Epoch 54/55\n",
      "200/200 [==============================] - 0s 2ms/step - loss: 0.2681 - accuracy: 0.8822 - val_loss: 0.3690 - val_accuracy: 0.8462\n",
      "Epoch 55/55\n",
      "200/200 [==============================] - 0s 2ms/step - loss: 0.2677 - accuracy: 0.8859 - val_loss: 0.3676 - val_accuracy: 0.8500\n"
     ]
    }
   ],
   "source": [
    "history=model.fit(X_train,Y_train,batch_size=32, epochs=55,validation_split=0.2)"
   ]
  },
  {
   "cell_type": "markdown",
   "id": "3d42927a-28c7-42d0-8775-6033fb0af0ba",
   "metadata": {},
   "source": [
    "#### Evaluating The model"
   ]
  },
  {
   "cell_type": "code",
   "execution_count": 12,
   "id": "d993d342-193c-4a30-b911-2267616df825",
   "metadata": {},
   "outputs": [
    {
     "name": "stdout",
     "output_type": "stream",
     "text": [
      "63/63 [==============================] - 0s 2ms/step - loss: 0.3588 - accuracy: 0.8565\n",
      "Test Loss: 0.3588\n",
      "Accuracy: 0.8565\n"
     ]
    }
   ],
   "source": [
    "loss,accuracy=model.evaluate(X_test,Y_test)\n",
    "print(f\"Test Loss: {loss:.4f}\")\n",
    "print(f\"Accuracy: {accuracy:.4f}\")"
   ]
  },
  {
   "cell_type": "markdown",
   "id": "8f19110b-86e5-4ee1-9fbf-cded20afb653",
   "metadata": {},
   "source": [
    "#### Single Prediction and test data prediction"
   ]
  },
  {
   "cell_type": "code",
   "execution_count": 13,
   "id": "d786914b-bb09-4f90-98c8-42dda2ed32db",
   "metadata": {},
   "outputs": [
    {
     "name": "stdout",
     "output_type": "stream",
     "text": [
      "1/1 [==============================] - 0s 86ms/step\n",
      "[[False]]\n",
      "1/1 [==============================] - 0s 21ms/step\n",
      "[[False]]\n",
      "63/63 [==============================] - 0s 1ms/step\n"
     ]
    }
   ],
   "source": [
    "print(model.predict(sc.transform([[1.0, 0.0, 0.0, 1, 447, 31, 7, 0.0, 4, 1,1, 519360]]))>0.5)\n",
    "print(model.predict(sc.transform([[0.0,1.0,0.0, 0, 315, 25, 3, 12344, 2, 1,0, 12425]]))>0.5)\n",
    "predictions=model.predict(X_test)"
   ]
  },
  {
   "cell_type": "code",
   "execution_count": 14,
   "id": "08baae83-241f-408c-87b8-6424bbcff205",
   "metadata": {},
   "outputs": [
    {
     "name": "stdout",
     "output_type": "stream",
     "text": [
      "63/63 [==============================] - 0s 1ms/step\n",
      "[[0 0]\n",
      " [0 0]\n",
      " [0 0]\n",
      " ...\n",
      " [1 1]\n",
      " [0 1]\n",
      " [0 1]]\n"
     ]
    }
   ],
   "source": [
    "Y_pred=model.predict(X_test)\n",
    "Y_pred=(Y_pred>0.5)\n",
    "print(np.concatenate((Y_pred.reshape(len(Y_pred),1),Y_test.reshape(len(Y_test),1)),1))"
   ]
  },
  {
   "cell_type": "markdown",
   "id": "78e8090e-937c-421e-a9bb-7fa3d823c780",
   "metadata": {},
   "source": [
    "#### Confusion metrix and accuracy"
   ]
  },
  {
   "cell_type": "code",
   "execution_count": 15,
   "id": "f5fc4f47-d912-4985-af1e-dc53cae955d8",
   "metadata": {},
   "outputs": [
    {
     "name": "stdout",
     "output_type": "stream",
     "text": [
      "[[1513   94]\n",
      " [ 193  200]]\n"
     ]
    },
    {
     "data": {
      "text/plain": [
       "0.8565"
      ]
     },
     "execution_count": 15,
     "metadata": {},
     "output_type": "execute_result"
    }
   ],
   "source": [
    "from sklearn.metrics import confusion_matrix, accuracy_score\n",
    "cm=confusion_matrix(Y_test,Y_pred)\n",
    "print(cm)\n",
    "accuracy_score(Y_test,Y_pred)"
   ]
  },
  {
   "cell_type": "markdown",
   "id": "d3532cce-7ed2-4a69-9f08-b2b1580b4e96",
   "metadata": {},
   "source": [
    "#### Saving The model"
   ]
  },
  {
   "cell_type": "code",
   "execution_count": 16,
   "id": "2c609788-008c-40ea-8ca9-23474660e743",
   "metadata": {},
   "outputs": [
    {
     "name": "stderr",
     "output_type": "stream",
     "text": [
      "/home/rguktrkvalley/.local/lib/python3.8/site-packages/keras/src/engine/training.py:3000: UserWarning: You are saving your model as an HDF5 file via `model.save()`. This file format is considered legacy. We recommend using instead the native Keras format, e.g. `model.save('my_model.keras')`.\n",
      "  saving_api.save_model(\n"
     ]
    },
    {
     "data": {
      "text/plain": [
       "['scaler.pkl']"
      ]
     },
     "execution_count": 16,
     "metadata": {},
     "output_type": "execute_result"
    }
   ],
   "source": [
    "\n",
    "# AFTER training is completed (after model.fit)\n",
    "from tensorflow.keras.models import load_model\n",
    "import joblib\n",
    "\n",
    "# ✅ Save the model\n",
    "model.save(\"model.keras\")  # or \"model.h5\"\n",
    "model.save(\"model.h5\")\n",
    "# ✅ Save the scaler\n",
    "joblib.dump(sc, \"scaler.pkl\")\n"
   ]
  },
  {
   "cell_type": "code",
   "execution_count": null,
   "id": "a55c21e2-d711-4f84-bc0f-38c934b11e76",
   "metadata": {},
   "outputs": [],
   "source": []
  },
  {
   "cell_type": "code",
   "execution_count": 19,
   "id": "44552e21-65b4-4f66-b0bb-7470b42368d7",
   "metadata": {},
   "outputs": [
    {
     "name": "stdout",
     "output_type": "stream",
     "text": [
      "Accuracy: 0.865\n",
      "\n",
      "Confusion Matrix:\n",
      " [[1543   64]\n",
      " [ 206  187]]\n",
      "\n",
      "Classification Report:\n",
      "               precision    recall  f1-score   support\n",
      "\n",
      "           0       0.88      0.96      0.92      1607\n",
      "           1       0.75      0.48      0.58       393\n",
      "\n",
      "    accuracy                           0.86      2000\n",
      "   macro avg       0.81      0.72      0.75      2000\n",
      "weighted avg       0.86      0.86      0.85      2000\n",
      "\n"
     ]
    }
   ],
   "source": [
    "# Import libraries\n",
    "from sklearn.ensemble import RandomForestClassifier\n",
    "from sklearn.metrics import accuracy_score, confusion_matrix, classification_report\n",
    "\n",
    "# Scale features (optional but good if features have very different scales)\n",
    "scaler = StandardScaler()\n",
    "X_train = scaler.fit_transform(X_train)\n",
    "X_test = scaler.transform(X_test)\n",
    "\n",
    "# Random Forest model\n",
    "rf = RandomForestClassifier(n_estimators=100, random_state=42)\n",
    "rf.fit(X_train, Y_train)\n",
    "\n",
    "# Predictions\n",
    "y_pred = rf.predict(X_test)\n",
    "\n",
    "# Evaluation\n",
    "print(\"Accuracy:\", accuracy_score(Y_test, y_pred))\n",
    "print(\"\\nConfusion Matrix:\\n\", confusion_matrix(Y_test, y_pred))\n",
    "print(\"\\nClassification Report:\\n\", classification_report(Y_test, y_pred))\n"
   ]
  }
 ],
 "metadata": {
  "kernelspec": {
   "display_name": "Python 3 (ipykernel)",
   "language": "python",
   "name": "python3"
  },
  "language_info": {
   "codemirror_mode": {
    "name": "ipython",
    "version": 3
   },
   "file_extension": ".py",
   "mimetype": "text/x-python",
   "name": "python",
   "nbconvert_exporter": "python",
   "pygments_lexer": "ipython3",
   "version": "3.8.10"
  }
 },
 "nbformat": 4,
 "nbformat_minor": 5
}
