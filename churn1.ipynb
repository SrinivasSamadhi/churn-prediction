{
 "cells": [
  {
   "cell_type": "markdown",
   "id": "7c9736b5-4513-4a88-a5b0-051ff3afa792",
   "metadata": {},
   "source": [
    "## Churn Prediction"
   ]
  },
  {
   "cell_type": "markdown",
   "id": "9e670d58-5aa9-4c85-9187-79fd6bafa593",
   "metadata": {},
   "source": [
    "#### Import Libraries"
   ]
  },
  {
   "cell_type": "code",
   "execution_count": 1,
   "id": "0abc0283-6a0c-4158-b683-db58897d9064",
   "metadata": {},
   "outputs": [],
   "source": [
    "import numpy as np\n",
    "import pandas as pd\n",
    "import matplotlib.pyplot as plt\n"
   ]
  },
  {
   "cell_type": "markdown",
   "id": "23944431-aa55-4aac-8731-642d79ab175f",
   "metadata": {},
   "source": [
    "#### Load DataSet"
   ]
  },
  {
   "cell_type": "code",
   "execution_count": 2,
   "id": "e640c9e9-6121-4fc7-984b-9bd0fd32f717",
   "metadata": {},
   "outputs": [],
   "source": [
    "df = pd.read_csv('/home/rguktrkvalley/Desktop/churn_prediction/Churn_Modelling.csv')\n",
    "X = df.iloc[:,3:-1].values\n",
    "y = df.iloc[:,-1].values"
   ]
  },
  {
   "cell_type": "markdown",
   "id": "298166ba-1af2-44fd-a980-d3291d3530ff",
   "metadata": {},
   "source": [
    "### Encoding the categorical Labels"
   ]
  },
  {
   "cell_type": "code",
   "execution_count": 3,
   "id": "fb000f44-4357-4639-a582-ae120f4ece27",
   "metadata": {},
   "outputs": [],
   "source": [
    "from sklearn.preprocessing import LabelEncoder\n",
    "LeX=LabelEncoder()\n",
    "X[:,2]=LeX.fit_transform(X[:,2])"
   ]
  },
  {
   "cell_type": "code",
   "execution_count": 5,
   "id": "259e3261-a8d3-4e2c-858a-4d7dbc33ef23",
   "metadata": {},
   "outputs": [],
   "source": [
    "from sklearn.compose import ColumnTransformer\n",
    "from sklearn.preprocessing import OneHotEncoder\n",
    "ct=ColumnTransformer(transformers=[('encoder',OneHotEncoder(),[1])], remainder='passthrough')\n",
    "X=np.array(ct.fit_transform(X))"
   ]
  },
  {
   "cell_type": "markdown",
   "id": "64bba8c3-40e2-4fc0-91b5-c0e4e3011730",
   "metadata": {},
   "source": [
    "#### Feature Scaling"
   ]
  },
  {
   "cell_type": "code",
   "execution_count": 6,
   "id": "6d0cce1d-ec69-48ff-8b93-972a95362c2f",
   "metadata": {},
   "outputs": [],
   "source": [
    "from sklearn.preprocessing import StandardScaler\n",
    "sc=StandardScaler()\n",
    "X=sc.fit_transform(X)"
   ]
  },
  {
   "cell_type": "markdown",
   "id": "e20dee3e-f975-4de7-973d-34e7293f8324",
   "metadata": {},
   "source": [
    "#### Spliting the dataset into train and test data"
   ]
  },
  {
   "cell_type": "code",
   "execution_count": 8,
   "id": "8de5019b-8e33-49f9-8c57-e01e7aaac6e2",
   "metadata": {},
   "outputs": [],
   "source": [
    "#Splitting dataset into train and test set\n",
    "from sklearn.model_selection import train_test_split\n",
    "#Set any int as random state for reprodicibility\n",
    "X_train, X_test, Y_train, Y_test=train_test_split(X,y,test_size=0.2,random_state=42)\n"
   ]
  },
  {
   "cell_type": "markdown",
   "id": "5f192f46-363a-4675-9de8-43644bda69af",
   "metadata": {},
   "source": [
    "#### Import model and layers"
   ]
  },
  {
   "cell_type": "code",
   "execution_count": 9,
   "id": "974898c0-1d5f-493b-a4b0-2412e90e22c9",
   "metadata": {},
   "outputs": [
    {
     "name": "stderr",
     "output_type": "stream",
     "text": [
      "2025-07-10 10:02:08.780292: I tensorflow/tsl/cuda/cudart_stub.cc:28] Could not find cuda drivers on your machine, GPU will not be used.\n",
      "2025-07-10 10:02:09.023586: I tensorflow/tsl/cuda/cudart_stub.cc:28] Could not find cuda drivers on your machine, GPU will not be used.\n",
      "2025-07-10 10:02:09.024840: I tensorflow/core/platform/cpu_feature_guard.cc:182] This TensorFlow binary is optimized to use available CPU instructions in performance-critical operations.\n",
      "To enable the following instructions: AVX2 FMA, in other operations, rebuild TensorFlow with the appropriate compiler flags.\n",
      "2025-07-10 10:02:14.054321: W tensorflow/compiler/tf2tensorrt/utils/py_utils.cc:38] TF-TRT Warning: Could not find TensorRT\n"
     ]
    }
   ],
   "source": [
    "from tensorflow.keras.models import Sequential\n",
    "from tensorflow.keras.layers import Dense"
   ]
  },
  {
   "cell_type": "code",
   "execution_count": 10,
   "id": "c6bf56e3-9739-4df2-8acd-dfe774d83114",
   "metadata": {},
   "outputs": [],
   "source": [
    "input_dim=X_train.shape[1]"
   ]
  },
  {
   "cell_type": "markdown",
   "id": "f0ee9f06-46ff-4f53-84a6-233de08f218b",
   "metadata": {},
   "source": [
    "#### Inputing layers into model"
   ]
  },
  {
   "cell_type": "code",
   "execution_count": 14,
   "id": "239dd7d6-c3c8-47bc-a6d0-c49f4415e98d",
   "metadata": {},
   "outputs": [],
   "source": [
    "model=Sequential([Dense(64,activation='relu',input_shape=(input_dim,)),    #Adding first hidden layer\n",
    "                  Dense(32,activation='relu'),                            #Second hidden layer\n",
    "                  Dense(1,activation='sigmoid')]) "
   ]
  },
  {
   "cell_type": "markdown",
   "id": "7ba8c984-7c72-4afd-842d-fe088dacd914",
   "metadata": {},
   "source": [
    "#### Compiling the model"
   ]
  },
  {
   "cell_type": "code",
   "execution_count": 15,
   "id": "93cde692-9b55-4fa2-ae30-d08f87f398f2",
   "metadata": {},
   "outputs": [
    {
     "name": "stdout",
     "output_type": "stream",
     "text": [
      "Model: \"sequential\"\n",
      "_________________________________________________________________\n",
      " Layer (type)                Output Shape              Param #   \n",
      "=================================================================\n",
      " dense (Dense)               (None, 64)                832       \n",
      "                                                                 \n",
      " dense_1 (Dense)             (None, 32)                2080      \n",
      "                                                                 \n",
      " dense_2 (Dense)             (None, 1)                 33        \n",
      "                                                                 \n",
      "=================================================================\n",
      "Total params: 2945 (11.50 KB)\n",
      "Trainable params: 2945 (11.50 KB)\n",
      "Non-trainable params: 0 (0.00 Byte)\n",
      "_________________________________________________________________\n"
     ]
    }
   ],
   "source": [
    "model.compile(optimizer='adam',loss='binary_crossentropy',metrics='accuracy')\n",
    "model.summary()"
   ]
  },
  {
   "cell_type": "markdown",
   "id": "b5b2934f-c11d-41c0-80e0-57c1d181bce5",
   "metadata": {},
   "source": [
    "#### Training the model"
   ]
  },
  {
   "cell_type": "code",
   "execution_count": 16,
   "id": "dcff7950-61c4-4c24-b575-b3e5ad290006",
   "metadata": {},
   "outputs": [
    {
     "name": "stdout",
     "output_type": "stream",
     "text": [
      "Epoch 1/55\n",
      "200/200 [==============================] - 2s 5ms/step - loss: 0.4696 - accuracy: 0.7895 - val_loss: 0.4047 - val_accuracy: 0.8381\n",
      "Epoch 2/55\n",
      "200/200 [==============================] - 1s 4ms/step - loss: 0.3882 - accuracy: 0.8428 - val_loss: 0.3696 - val_accuracy: 0.8500\n",
      "Epoch 3/55\n",
      "200/200 [==============================] - 1s 3ms/step - loss: 0.3551 - accuracy: 0.8555 - val_loss: 0.3544 - val_accuracy: 0.8581\n",
      "Epoch 4/55\n",
      "200/200 [==============================] - 1s 4ms/step - loss: 0.3437 - accuracy: 0.8591 - val_loss: 0.3557 - val_accuracy: 0.8544\n",
      "Epoch 5/55\n",
      "200/200 [==============================] - 1s 3ms/step - loss: 0.3391 - accuracy: 0.8606 - val_loss: 0.3463 - val_accuracy: 0.8519\n",
      "Epoch 6/55\n",
      "200/200 [==============================] - 1s 3ms/step - loss: 0.3347 - accuracy: 0.8594 - val_loss: 0.3476 - val_accuracy: 0.8544\n",
      "Epoch 7/55\n",
      "200/200 [==============================] - 1s 3ms/step - loss: 0.3327 - accuracy: 0.8625 - val_loss: 0.3507 - val_accuracy: 0.8581\n",
      "Epoch 8/55\n",
      "200/200 [==============================] - 1s 4ms/step - loss: 0.3302 - accuracy: 0.8639 - val_loss: 0.3455 - val_accuracy: 0.8537\n",
      "Epoch 9/55\n",
      "200/200 [==============================] - 1s 4ms/step - loss: 0.3274 - accuracy: 0.8653 - val_loss: 0.3470 - val_accuracy: 0.8550\n",
      "Epoch 10/55\n",
      "200/200 [==============================] - 1s 5ms/step - loss: 0.3237 - accuracy: 0.8653 - val_loss: 0.3490 - val_accuracy: 0.8537\n",
      "Epoch 11/55\n",
      "200/200 [==============================] - 1s 4ms/step - loss: 0.3230 - accuracy: 0.8678 - val_loss: 0.3451 - val_accuracy: 0.8531\n",
      "Epoch 12/55\n",
      "200/200 [==============================] - 1s 4ms/step - loss: 0.3222 - accuracy: 0.8648 - val_loss: 0.3453 - val_accuracy: 0.8581\n",
      "Epoch 13/55\n",
      "200/200 [==============================] - 1s 4ms/step - loss: 0.3198 - accuracy: 0.8667 - val_loss: 0.3464 - val_accuracy: 0.8562\n",
      "Epoch 14/55\n",
      "200/200 [==============================] - 1s 3ms/step - loss: 0.3176 - accuracy: 0.8678 - val_loss: 0.3457 - val_accuracy: 0.8594\n",
      "Epoch 15/55\n",
      "200/200 [==============================] - 1s 4ms/step - loss: 0.3168 - accuracy: 0.8689 - val_loss: 0.3444 - val_accuracy: 0.8525\n",
      "Epoch 16/55\n",
      "200/200 [==============================] - 1s 4ms/step - loss: 0.3149 - accuracy: 0.8680 - val_loss: 0.3456 - val_accuracy: 0.8531\n",
      "Epoch 17/55\n",
      "200/200 [==============================] - 1s 4ms/step - loss: 0.3126 - accuracy: 0.8703 - val_loss: 0.3524 - val_accuracy: 0.8550\n",
      "Epoch 18/55\n",
      "200/200 [==============================] - 1s 4ms/step - loss: 0.3124 - accuracy: 0.8689 - val_loss: 0.3481 - val_accuracy: 0.8512\n",
      "Epoch 19/55\n",
      "200/200 [==============================] - 1s 4ms/step - loss: 0.3097 - accuracy: 0.8717 - val_loss: 0.3453 - val_accuracy: 0.8575\n",
      "Epoch 20/55\n",
      "200/200 [==============================] - 1s 4ms/step - loss: 0.3080 - accuracy: 0.8709 - val_loss: 0.3454 - val_accuracy: 0.8575\n",
      "Epoch 21/55\n",
      "200/200 [==============================] - 1s 4ms/step - loss: 0.3059 - accuracy: 0.8722 - val_loss: 0.3485 - val_accuracy: 0.8575\n",
      "Epoch 22/55\n",
      "200/200 [==============================] - 1s 3ms/step - loss: 0.3050 - accuracy: 0.8747 - val_loss: 0.3466 - val_accuracy: 0.8594\n",
      "Epoch 23/55\n",
      "200/200 [==============================] - 1s 3ms/step - loss: 0.3037 - accuracy: 0.8736 - val_loss: 0.3500 - val_accuracy: 0.8544\n",
      "Epoch 24/55\n",
      "200/200 [==============================] - 1s 4ms/step - loss: 0.3014 - accuracy: 0.8745 - val_loss: 0.3515 - val_accuracy: 0.8500\n",
      "Epoch 25/55\n",
      "200/200 [==============================] - 1s 3ms/step - loss: 0.3019 - accuracy: 0.8745 - val_loss: 0.3491 - val_accuracy: 0.8556\n",
      "Epoch 26/55\n",
      "200/200 [==============================] - 1s 4ms/step - loss: 0.2994 - accuracy: 0.8728 - val_loss: 0.3467 - val_accuracy: 0.8612\n",
      "Epoch 27/55\n",
      "200/200 [==============================] - 1s 4ms/step - loss: 0.2969 - accuracy: 0.8745 - val_loss: 0.3512 - val_accuracy: 0.8531\n",
      "Epoch 28/55\n",
      "200/200 [==============================] - 1s 5ms/step - loss: 0.2977 - accuracy: 0.8750 - val_loss: 0.3508 - val_accuracy: 0.8569\n",
      "Epoch 29/55\n",
      "200/200 [==============================] - 1s 4ms/step - loss: 0.2952 - accuracy: 0.8773 - val_loss: 0.3525 - val_accuracy: 0.8569\n",
      "Epoch 30/55\n",
      "200/200 [==============================] - 1s 4ms/step - loss: 0.2938 - accuracy: 0.8770 - val_loss: 0.3557 - val_accuracy: 0.8562\n",
      "Epoch 31/55\n",
      "200/200 [==============================] - 1s 4ms/step - loss: 0.2932 - accuracy: 0.8772 - val_loss: 0.3504 - val_accuracy: 0.8569\n",
      "Epoch 32/55\n",
      "200/200 [==============================] - 1s 3ms/step - loss: 0.2912 - accuracy: 0.8788 - val_loss: 0.3505 - val_accuracy: 0.8575\n",
      "Epoch 33/55\n",
      "200/200 [==============================] - 1s 3ms/step - loss: 0.2893 - accuracy: 0.8788 - val_loss: 0.3519 - val_accuracy: 0.8569\n",
      "Epoch 34/55\n",
      "200/200 [==============================] - 1s 4ms/step - loss: 0.2881 - accuracy: 0.8823 - val_loss: 0.3522 - val_accuracy: 0.8531\n",
      "Epoch 35/55\n",
      "200/200 [==============================] - 1s 5ms/step - loss: 0.2873 - accuracy: 0.8823 - val_loss: 0.3576 - val_accuracy: 0.8519\n",
      "Epoch 36/55\n",
      "200/200 [==============================] - 1s 5ms/step - loss: 0.2877 - accuracy: 0.8795 - val_loss: 0.3606 - val_accuracy: 0.8569\n",
      "Epoch 37/55\n",
      "200/200 [==============================] - 1s 4ms/step - loss: 0.2846 - accuracy: 0.8798 - val_loss: 0.3549 - val_accuracy: 0.8575\n",
      "Epoch 38/55\n",
      "200/200 [==============================] - 1s 4ms/step - loss: 0.2852 - accuracy: 0.8802 - val_loss: 0.3592 - val_accuracy: 0.8537\n",
      "Epoch 39/55\n",
      "200/200 [==============================] - 1s 3ms/step - loss: 0.2828 - accuracy: 0.8830 - val_loss: 0.3581 - val_accuracy: 0.8575\n",
      "Epoch 40/55\n",
      "200/200 [==============================] - 1s 3ms/step - loss: 0.2824 - accuracy: 0.8834 - val_loss: 0.3656 - val_accuracy: 0.8487\n",
      "Epoch 41/55\n",
      "200/200 [==============================] - 1s 3ms/step - loss: 0.2809 - accuracy: 0.8814 - val_loss: 0.3641 - val_accuracy: 0.8544\n",
      "Epoch 42/55\n",
      "200/200 [==============================] - 1s 3ms/step - loss: 0.2798 - accuracy: 0.8827 - val_loss: 0.3674 - val_accuracy: 0.8487\n",
      "Epoch 43/55\n",
      "200/200 [==============================] - 1s 3ms/step - loss: 0.2774 - accuracy: 0.8845 - val_loss: 0.3624 - val_accuracy: 0.8531\n",
      "Epoch 44/55\n",
      "200/200 [==============================] - 1s 4ms/step - loss: 0.2767 - accuracy: 0.8825 - val_loss: 0.3687 - val_accuracy: 0.8537\n",
      "Epoch 45/55\n",
      "200/200 [==============================] - 1s 4ms/step - loss: 0.2767 - accuracy: 0.8855 - val_loss: 0.3695 - val_accuracy: 0.8506\n",
      "Epoch 46/55\n",
      "200/200 [==============================] - 1s 3ms/step - loss: 0.2755 - accuracy: 0.8844 - val_loss: 0.3682 - val_accuracy: 0.8519\n",
      "Epoch 47/55\n",
      "200/200 [==============================] - 1s 5ms/step - loss: 0.2748 - accuracy: 0.8848 - val_loss: 0.3731 - val_accuracy: 0.8444\n",
      "Epoch 48/55\n",
      "200/200 [==============================] - 1s 4ms/step - loss: 0.2731 - accuracy: 0.8845 - val_loss: 0.3762 - val_accuracy: 0.8569\n",
      "Epoch 49/55\n",
      "200/200 [==============================] - 1s 3ms/step - loss: 0.2715 - accuracy: 0.8869 - val_loss: 0.3704 - val_accuracy: 0.8512\n",
      "Epoch 50/55\n",
      "200/200 [==============================] - 1s 4ms/step - loss: 0.2699 - accuracy: 0.8869 - val_loss: 0.3786 - val_accuracy: 0.8425\n",
      "Epoch 51/55\n",
      "200/200 [==============================] - 1s 3ms/step - loss: 0.2702 - accuracy: 0.8889 - val_loss: 0.3746 - val_accuracy: 0.8537\n",
      "Epoch 52/55\n",
      "200/200 [==============================] - 1s 3ms/step - loss: 0.2687 - accuracy: 0.8861 - val_loss: 0.3742 - val_accuracy: 0.8512\n",
      "Epoch 53/55\n",
      "200/200 [==============================] - 1s 4ms/step - loss: 0.2674 - accuracy: 0.8870 - val_loss: 0.3782 - val_accuracy: 0.8487\n",
      "Epoch 54/55\n",
      "200/200 [==============================] - 1s 3ms/step - loss: 0.2663 - accuracy: 0.8880 - val_loss: 0.3838 - val_accuracy: 0.8525\n",
      "Epoch 55/55\n",
      "200/200 [==============================] - 1s 3ms/step - loss: 0.2663 - accuracy: 0.8880 - val_loss: 0.3872 - val_accuracy: 0.8369\n"
     ]
    }
   ],
   "source": [
    "history=model.fit(X_train,Y_train,batch_size=32, epochs=55,validation_split=0.2)"
   ]
  },
  {
   "cell_type": "markdown",
   "id": "3d42927a-28c7-42d0-8775-6033fb0af0ba",
   "metadata": {},
   "source": [
    "#### Evaluating The model"
   ]
  },
  {
   "cell_type": "code",
   "execution_count": 17,
   "id": "d993d342-193c-4a30-b911-2267616df825",
   "metadata": {},
   "outputs": [
    {
     "name": "stdout",
     "output_type": "stream",
     "text": [
      "63/63 [==============================] - 0s 3ms/step - loss: 0.3949 - accuracy: 0.8380\n",
      "Test Loss: 0.3949\n",
      "Accuracy: 0.8380\n"
     ]
    }
   ],
   "source": [
    "loss,accuracy=model.evaluate(X_test,Y_test)\n",
    "print(f\"Test Loss: {loss:.4f}\")\n",
    "print(f\"Accuracy: {accuracy:.4f}\")"
   ]
  },
  {
   "cell_type": "markdown",
   "id": "8f19110b-86e5-4ee1-9fbf-cded20afb653",
   "metadata": {},
   "source": [
    "#### Single Prediction and test data prediction"
   ]
  },
  {
   "cell_type": "code",
   "execution_count": 21,
   "id": "d786914b-bb09-4f90-98c8-42dda2ed32db",
   "metadata": {},
   "outputs": [
    {
     "name": "stdout",
     "output_type": "stream",
     "text": [
      "1/1 [==============================] - 0s 27ms/step\n",
      "[[False]]\n",
      "1/1 [==============================] - 0s 30ms/step\n",
      "[[False]]\n",
      "63/63 [==============================] - 0s 2ms/step\n"
     ]
    }
   ],
   "source": [
    "print(model.predict(sc.transform([[1.0, 0.0, 0.0, 1, 447, 31, 7, 0.0, 4, 1,1, 519360]]))>0.5)\n",
    "print(model.predict(sc.transform([[0.0,1.0,0.0, 0, 315, 25, 3, 12344, 2, 1,0, 12425]]))>0.5)\n",
    "predictions=model.predict(X_test)"
   ]
  },
  {
   "cell_type": "code",
   "execution_count": 23,
   "id": "08baae83-241f-408c-87b8-6424bbcff205",
   "metadata": {},
   "outputs": [
    {
     "name": "stdout",
     "output_type": "stream",
     "text": [
      "63/63 [==============================] - 0s 2ms/step\n",
      "[[0 0]\n",
      " [0 0]\n",
      " [0 0]\n",
      " ...\n",
      " [1 1]\n",
      " [0 1]\n",
      " [0 1]]\n"
     ]
    }
   ],
   "source": [
    "Y_pred=model.predict(X_test)\n",
    "Y_pred=(Y_pred>0.5)\n",
    "print(np.concatenate((Y_pred.reshape(len(Y_pred),1),Y_test.reshape(len(Y_test),1)),1))"
   ]
  },
  {
   "cell_type": "markdown",
   "id": "78e8090e-937c-421e-a9bb-7fa3d823c780",
   "metadata": {},
   "source": [
    "#### Confusion metrix and accuracy"
   ]
  },
  {
   "cell_type": "code",
   "execution_count": 24,
   "id": "f5fc4f47-d912-4985-af1e-dc53cae955d8",
   "metadata": {},
   "outputs": [
    {
     "name": "stdout",
     "output_type": "stream",
     "text": [
      "[[1432  175]\n",
      " [ 149  244]]\n"
     ]
    },
    {
     "data": {
      "text/plain": [
       "0.838"
      ]
     },
     "execution_count": 24,
     "metadata": {},
     "output_type": "execute_result"
    }
   ],
   "source": [
    "from sklearn.metrics import confusion_matrix, accuracy_score\n",
    "cm=confusion_matrix(Y_test,Y_pred)\n",
    "print(cm)\n",
    "accuracy_score(Y_test,Y_pred)"
   ]
  },
  {
   "cell_type": "markdown",
   "id": "d3532cce-7ed2-4a69-9f08-b2b1580b4e96",
   "metadata": {},
   "source": [
    "#### Saving The model"
   ]
  },
  {
   "cell_type": "code",
   "execution_count": 27,
   "id": "2c609788-008c-40ea-8ca9-23474660e743",
   "metadata": {},
   "outputs": [
    {
     "name": "stderr",
     "output_type": "stream",
     "text": [
      "/home/rguktrkvalley/.local/lib/python3.8/site-packages/keras/src/engine/training.py:3000: UserWarning: You are saving your model as an HDF5 file via `model.save()`. This file format is considered legacy. We recommend using instead the native Keras format, e.g. `model.save('my_model.keras')`.\n",
      "  saving_api.save_model(\n"
     ]
    },
    {
     "data": {
      "text/plain": [
       "['scaler.pkl']"
      ]
     },
     "execution_count": 27,
     "metadata": {},
     "output_type": "execute_result"
    }
   ],
   "source": [
    "\n",
    "# AFTER training is completed (after model.fit)\n",
    "from tensorflow.keras.models import load_model\n",
    "import joblib\n",
    "\n",
    "# ✅ Save the model\n",
    "model.save(\"model.keras\")  # or \"model.h5\"\n",
    "model.save(\"model.h5\")\n",
    "# ✅ Save the scaler\n",
    "joblib.dump(sc, \"scaler.pkl\")\n"
   ]
  }
 ],
 "metadata": {
  "kernelspec": {
   "display_name": "Python 3 (ipykernel)",
   "language": "python",
   "name": "python3"
  },
  "language_info": {
   "codemirror_mode": {
    "name": "ipython",
    "version": 3
   },
   "file_extension": ".py",
   "mimetype": "text/x-python",
   "name": "python",
   "nbconvert_exporter": "python",
   "pygments_lexer": "ipython3",
   "version": "3.8.10"
  }
 },
 "nbformat": 4,
 "nbformat_minor": 5
}
